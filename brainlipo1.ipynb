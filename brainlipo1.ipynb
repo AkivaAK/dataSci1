{
 "cells": [
  {
   "cell_type": "code",
   "execution_count": 2,
   "metadata": {
    "pycharm": {
     "is_executing": true
    }
   },
   "outputs": [],
   "source": [
    "import pandas as pd\n",
    "import numpy as np\n",
    "import matplotlib.pyplot as plt\n",
    "from sklearn.decomposition import PCA\n",
    "from sklearn.cluster import AgglomerativeClustering\n",
    "from sklearn.preprocessing import StandardScaler, normalize\n",
    "from sklearn.metrics import silhouette_score\n",
    "import scipy.cluster.hierarchy as shc\n",
    "import scipy.stats as sci\n",
    "from sklearn.decomposition import NMF\n",
    "from sklearn.manifold import TSNE\n",
    "import re\n",
    "import pylab"
   ]
  },
  {
   "cell_type": "code",
   "execution_count": 3,
   "metadata": {},
   "outputs": [
    {
     "data": {
      "application/javascript": [
       "IPython.OutputArea.prototype._should_scroll = function(lines) {\n",
       "    return false;\n",
       "}\n"
      ],
      "text/plain": [
       "<IPython.core.display.Javascript object>"
      ]
     },
     "metadata": {},
     "output_type": "display_data"
    }
   ],
   "source": [
    "%%javascript\n",
    "IPython.OutputArea.prototype._should_scroll = function(lines) {\n",
    "    return false;\n",
    "}"
   ]
  },
  {
   "cell_type": "code",
   "execution_count": 4,
   "metadata": {},
   "outputs": [
    {
     "data": {
      "text/html": [
       "<div>\n",
       "<style scoped>\n",
       "    .dataframe tbody tr th:only-of-type {\n",
       "        vertical-align: middle;\n",
       "    }\n",
       "\n",
       "    .dataframe tbody tr th {\n",
       "        vertical-align: top;\n",
       "    }\n",
       "\n",
       "    .dataframe thead th {\n",
       "        text-align: right;\n",
       "    }\n",
       "</style>\n",
       "<table border=\"1\" class=\"dataframe\">\n",
       "  <thead>\n",
       "    <tr style=\"text-align: right;\">\n",
       "      <th></th>\n",
       "      <th>row_num</th>\n",
       "      <th>gene_id</th>\n",
       "      <th>ensembl_gene_id</th>\n",
       "      <th>entrez_id</th>\n",
       "      <th>1-8 pcw-M-Ocx</th>\n",
       "      <th>2-8 pcw-M-M1C-S1C</th>\n",
       "      <th>3-8 pcw-M-AMY</th>\n",
       "      <th>4-8 pcw-M-MGE</th>\n",
       "      <th>5-8 pcw-M-STC</th>\n",
       "      <th>6-8 pcw-M-URL</th>\n",
       "      <th>...</th>\n",
       "      <th>515-40 yrs-F-A1C</th>\n",
       "      <th>516-40 yrs-F-CBC</th>\n",
       "      <th>517-40 yrs-F-V1C</th>\n",
       "      <th>518-40 yrs-F-OFC</th>\n",
       "      <th>519-40 yrs-F-STC</th>\n",
       "      <th>520-40 yrs-F-IPC</th>\n",
       "      <th>521-40 yrs-F-M1C</th>\n",
       "      <th>522-40 yrs-F-HIP</th>\n",
       "      <th>523-40 yrs-F-STR</th>\n",
       "      <th>524-40 yrs-F-S1C</th>\n",
       "    </tr>\n",
       "    <tr>\n",
       "      <th>gene_symbol</th>\n",
       "      <th></th>\n",
       "      <th></th>\n",
       "      <th></th>\n",
       "      <th></th>\n",
       "      <th></th>\n",
       "      <th></th>\n",
       "      <th></th>\n",
       "      <th></th>\n",
       "      <th></th>\n",
       "      <th></th>\n",
       "      <th></th>\n",
       "      <th></th>\n",
       "      <th></th>\n",
       "      <th></th>\n",
       "      <th></th>\n",
       "      <th></th>\n",
       "      <th></th>\n",
       "      <th></th>\n",
       "      <th></th>\n",
       "      <th></th>\n",
       "      <th></th>\n",
       "    </tr>\n",
       "  </thead>\n",
       "  <tbody>\n",
       "    <tr>\n",
       "      <th>DPM1</th>\n",
       "      <td>3</td>\n",
       "      <td>8736</td>\n",
       "      <td>ENSG00000000419</td>\n",
       "      <td>8813</td>\n",
       "      <td>34.373239</td>\n",
       "      <td>20.765661</td>\n",
       "      <td>18.734947</td>\n",
       "      <td>22.366394</td>\n",
       "      <td>19.228431</td>\n",
       "      <td>11.020365</td>\n",
       "      <td>...</td>\n",
       "      <td>23.769167</td>\n",
       "      <td>20.142132</td>\n",
       "      <td>20.063257</td>\n",
       "      <td>16.575379</td>\n",
       "      <td>18.783516</td>\n",
       "      <td>21.631293</td>\n",
       "      <td>28.006120</td>\n",
       "      <td>28.731717</td>\n",
       "      <td>16.679597</td>\n",
       "      <td>28.866042</td>\n",
       "    </tr>\n",
       "    <tr>\n",
       "      <th>PIGQ</th>\n",
       "      <td>193</td>\n",
       "      <td>8968</td>\n",
       "      <td>ENSG00000007541</td>\n",
       "      <td>9091</td>\n",
       "      <td>4.957886</td>\n",
       "      <td>4.885296</td>\n",
       "      <td>4.508666</td>\n",
       "      <td>4.872717</td>\n",
       "      <td>4.399800</td>\n",
       "      <td>7.042405</td>\n",
       "      <td>...</td>\n",
       "      <td>6.230731</td>\n",
       "      <td>6.157183</td>\n",
       "      <td>5.215355</td>\n",
       "      <td>4.454139</td>\n",
       "      <td>4.668274</td>\n",
       "      <td>3.935226</td>\n",
       "      <td>4.913720</td>\n",
       "      <td>3.973337</td>\n",
       "      <td>4.636462</td>\n",
       "      <td>5.522242</td>\n",
       "    </tr>\n",
       "    <tr>\n",
       "      <th>HHATL</th>\n",
       "      <td>258</td>\n",
       "      <td>36740</td>\n",
       "      <td>ENSG00000010282</td>\n",
       "      <td>57467</td>\n",
       "      <td>0.000000</td>\n",
       "      <td>0.000000</td>\n",
       "      <td>0.000000</td>\n",
       "      <td>0.000000</td>\n",
       "      <td>0.000000</td>\n",
       "      <td>0.000000</td>\n",
       "      <td>...</td>\n",
       "      <td>13.111074</td>\n",
       "      <td>7.552178</td>\n",
       "      <td>13.642510</td>\n",
       "      <td>6.351730</td>\n",
       "      <td>10.227655</td>\n",
       "      <td>5.567528</td>\n",
       "      <td>11.462198</td>\n",
       "      <td>11.950902</td>\n",
       "      <td>34.038134</td>\n",
       "      <td>12.859782</td>\n",
       "    </tr>\n",
       "    <tr>\n",
       "      <th>LYPLA2</th>\n",
       "      <td>280</td>\n",
       "      <td>11149</td>\n",
       "      <td>ENSG00000011009</td>\n",
       "      <td>11313</td>\n",
       "      <td>15.007184</td>\n",
       "      <td>8.533285</td>\n",
       "      <td>10.774588</td>\n",
       "      <td>7.240709</td>\n",
       "      <td>9.406447</td>\n",
       "      <td>10.717289</td>\n",
       "      <td>...</td>\n",
       "      <td>5.535053</td>\n",
       "      <td>4.747595</td>\n",
       "      <td>5.172533</td>\n",
       "      <td>3.277875</td>\n",
       "      <td>3.872781</td>\n",
       "      <td>2.672844</td>\n",
       "      <td>5.030284</td>\n",
       "      <td>5.580393</td>\n",
       "      <td>6.922569</td>\n",
       "      <td>5.182835</td>\n",
       "    </tr>\n",
       "    <tr>\n",
       "      <th>NPC1L1</th>\n",
       "      <td>366</td>\n",
       "      <td>29616</td>\n",
       "      <td>ENSG00000015520</td>\n",
       "      <td>29881</td>\n",
       "      <td>0.006853</td>\n",
       "      <td>0.000000</td>\n",
       "      <td>0.000000</td>\n",
       "      <td>0.000000</td>\n",
       "      <td>0.021421</td>\n",
       "      <td>0.015853</td>\n",
       "      <td>...</td>\n",
       "      <td>0.000000</td>\n",
       "      <td>0.000000</td>\n",
       "      <td>0.028658</td>\n",
       "      <td>0.000000</td>\n",
       "      <td>0.012779</td>\n",
       "      <td>0.014480</td>\n",
       "      <td>0.004712</td>\n",
       "      <td>0.000000</td>\n",
       "      <td>0.065043</td>\n",
       "      <td>0.000000</td>\n",
       "    </tr>\n",
       "  </tbody>\n",
       "</table>\n",
       "<p>5 rows × 528 columns</p>\n",
       "</div>"
      ],
      "text/plain": [
       "             row_num  gene_id  ensembl_gene_id  entrez_id  1-8 pcw-M-Ocx  \\\n",
       "gene_symbol                                                                \n",
       "DPM1               3     8736  ENSG00000000419       8813      34.373239   \n",
       "PIGQ             193     8968  ENSG00000007541       9091       4.957886   \n",
       "HHATL            258    36740  ENSG00000010282      57467       0.000000   \n",
       "LYPLA2           280    11149  ENSG00000011009      11313      15.007184   \n",
       "NPC1L1           366    29616  ENSG00000015520      29881       0.006853   \n",
       "\n",
       "             2-8 pcw-M-M1C-S1C  3-8 pcw-M-AMY  4-8 pcw-M-MGE  5-8 pcw-M-STC  \\\n",
       "gene_symbol                                                                   \n",
       "DPM1                 20.765661      18.734947      22.366394      19.228431   \n",
       "PIGQ                  4.885296       4.508666       4.872717       4.399800   \n",
       "HHATL                 0.000000       0.000000       0.000000       0.000000   \n",
       "LYPLA2                8.533285      10.774588       7.240709       9.406447   \n",
       "NPC1L1                0.000000       0.000000       0.000000       0.021421   \n",
       "\n",
       "             6-8 pcw-M-URL  ...  515-40 yrs-F-A1C  516-40 yrs-F-CBC  \\\n",
       "gene_symbol                 ...                                       \n",
       "DPM1             11.020365  ...         23.769167         20.142132   \n",
       "PIGQ              7.042405  ...          6.230731          6.157183   \n",
       "HHATL             0.000000  ...         13.111074          7.552178   \n",
       "LYPLA2           10.717289  ...          5.535053          4.747595   \n",
       "NPC1L1            0.015853  ...          0.000000          0.000000   \n",
       "\n",
       "             517-40 yrs-F-V1C  518-40 yrs-F-OFC  519-40 yrs-F-STC  \\\n",
       "gene_symbol                                                         \n",
       "DPM1                20.063257         16.575379         18.783516   \n",
       "PIGQ                 5.215355          4.454139          4.668274   \n",
       "HHATL               13.642510          6.351730         10.227655   \n",
       "LYPLA2               5.172533          3.277875          3.872781   \n",
       "NPC1L1               0.028658          0.000000          0.012779   \n",
       "\n",
       "             520-40 yrs-F-IPC  521-40 yrs-F-M1C  522-40 yrs-F-HIP  \\\n",
       "gene_symbol                                                         \n",
       "DPM1                21.631293         28.006120         28.731717   \n",
       "PIGQ                 3.935226          4.913720          3.973337   \n",
       "HHATL                5.567528         11.462198         11.950902   \n",
       "LYPLA2               2.672844          5.030284          5.580393   \n",
       "NPC1L1               0.014480          0.004712          0.000000   \n",
       "\n",
       "             523-40 yrs-F-STR  524-40 yrs-F-S1C  \n",
       "gene_symbol                                      \n",
       "DPM1                16.679597         28.866042  \n",
       "PIGQ                 4.636462          5.522242  \n",
       "HHATL               34.038134         12.859782  \n",
       "LYPLA2               6.922569          5.182835  \n",
       "NPC1L1               0.065043          0.000000  \n",
       "\n",
       "[5 rows x 528 columns]"
      ]
     },
     "execution_count": 4,
     "metadata": {},
     "output_type": "execute_result"
    }
   ],
   "source": [
    "gene_df=pd.read_csv(\"brainlipo.csv\",index_col=3)\n",
    "gene_df.head()"
   ]
  },
  {
   "cell_type": "code",
   "execution_count": 5,
   "metadata": {
    "pycharm": {
     "is_executing": true
    }
   },
   "outputs": [
    {
     "data": {
      "text/html": [
       "<div>\n",
       "<style scoped>\n",
       "    .dataframe tbody tr th:only-of-type {\n",
       "        vertical-align: middle;\n",
       "    }\n",
       "\n",
       "    .dataframe tbody tr th {\n",
       "        vertical-align: top;\n",
       "    }\n",
       "\n",
       "    .dataframe thead th {\n",
       "        text-align: right;\n",
       "    }\n",
       "</style>\n",
       "<table border=\"1\" class=\"dataframe\">\n",
       "  <thead>\n",
       "    <tr style=\"text-align: right;\">\n",
       "      <th>gene_symbol</th>\n",
       "      <th>DPM1</th>\n",
       "      <th>PIGQ</th>\n",
       "      <th>HHATL</th>\n",
       "      <th>LYPLA2</th>\n",
       "      <th>NPC1L1</th>\n",
       "      <th>ZDHHC6</th>\n",
       "      <th>HHAT</th>\n",
       "      <th>ATG5</th>\n",
       "      <th>PIGV</th>\n",
       "      <th>DGAT2</th>\n",
       "      <th>...</th>\n",
       "      <th>ZDHHC11</th>\n",
       "      <th>APOD</th>\n",
       "      <th>PGAP1</th>\n",
       "      <th>ATG7</th>\n",
       "      <th>GPAA1</th>\n",
       "      <th>SVIP</th>\n",
       "      <th>ZDHHC18</th>\n",
       "      <th>APOM</th>\n",
       "      <th>LCAT</th>\n",
       "      <th>ITGB3</th>\n",
       "    </tr>\n",
       "  </thead>\n",
       "  <tbody>\n",
       "    <tr>\n",
       "      <th>1-8 pcw-M-Ocx</th>\n",
       "      <td>34.373239</td>\n",
       "      <td>4.957886</td>\n",
       "      <td>0.0</td>\n",
       "      <td>15.007184</td>\n",
       "      <td>0.006853</td>\n",
       "      <td>16.803420</td>\n",
       "      <td>1.861921</td>\n",
       "      <td>9.302048</td>\n",
       "      <td>1.948372</td>\n",
       "      <td>0.259309</td>\n",
       "      <td>...</td>\n",
       "      <td>0.074568</td>\n",
       "      <td>3.987598</td>\n",
       "      <td>18.528562</td>\n",
       "      <td>7.395518</td>\n",
       "      <td>17.528421</td>\n",
       "      <td>4.706358</td>\n",
       "      <td>9.404380</td>\n",
       "      <td>4.981144</td>\n",
       "      <td>0.985188</td>\n",
       "      <td>0.613023</td>\n",
       "    </tr>\n",
       "    <tr>\n",
       "      <th>2-8 pcw-M-M1C-S1C</th>\n",
       "      <td>20.765661</td>\n",
       "      <td>4.885296</td>\n",
       "      <td>0.0</td>\n",
       "      <td>8.533285</td>\n",
       "      <td>0.000000</td>\n",
       "      <td>13.584455</td>\n",
       "      <td>1.164793</td>\n",
       "      <td>6.588545</td>\n",
       "      <td>1.630550</td>\n",
       "      <td>0.175087</td>\n",
       "      <td>...</td>\n",
       "      <td>0.357056</td>\n",
       "      <td>3.782146</td>\n",
       "      <td>18.162287</td>\n",
       "      <td>6.270376</td>\n",
       "      <td>13.631538</td>\n",
       "      <td>3.092537</td>\n",
       "      <td>9.320760</td>\n",
       "      <td>4.648099</td>\n",
       "      <td>1.471467</td>\n",
       "      <td>0.405086</td>\n",
       "    </tr>\n",
       "    <tr>\n",
       "      <th>3-8 pcw-M-AMY</th>\n",
       "      <td>18.734947</td>\n",
       "      <td>4.508666</td>\n",
       "      <td>0.0</td>\n",
       "      <td>10.774588</td>\n",
       "      <td>0.000000</td>\n",
       "      <td>11.185755</td>\n",
       "      <td>1.120949</td>\n",
       "      <td>6.282318</td>\n",
       "      <td>1.335926</td>\n",
       "      <td>0.576523</td>\n",
       "      <td>...</td>\n",
       "      <td>0.152814</td>\n",
       "      <td>5.219452</td>\n",
       "      <td>17.848180</td>\n",
       "      <td>6.394491</td>\n",
       "      <td>20.184930</td>\n",
       "      <td>1.453678</td>\n",
       "      <td>7.921595</td>\n",
       "      <td>4.193755</td>\n",
       "      <td>0.659026</td>\n",
       "      <td>0.224634</td>\n",
       "    </tr>\n",
       "    <tr>\n",
       "      <th>4-8 pcw-M-MGE</th>\n",
       "      <td>22.366394</td>\n",
       "      <td>4.872717</td>\n",
       "      <td>0.0</td>\n",
       "      <td>7.240709</td>\n",
       "      <td>0.000000</td>\n",
       "      <td>11.722672</td>\n",
       "      <td>1.662500</td>\n",
       "      <td>7.177213</td>\n",
       "      <td>1.594737</td>\n",
       "      <td>0.308998</td>\n",
       "      <td>...</td>\n",
       "      <td>0.087677</td>\n",
       "      <td>0.953690</td>\n",
       "      <td>13.053936</td>\n",
       "      <td>7.512032</td>\n",
       "      <td>18.166466</td>\n",
       "      <td>2.364709</td>\n",
       "      <td>8.393510</td>\n",
       "      <td>4.935286</td>\n",
       "      <td>1.201308</td>\n",
       "      <td>0.512886</td>\n",
       "    </tr>\n",
       "    <tr>\n",
       "      <th>5-8 pcw-M-STC</th>\n",
       "      <td>19.228431</td>\n",
       "      <td>4.399800</td>\n",
       "      <td>0.0</td>\n",
       "      <td>9.406447</td>\n",
       "      <td>0.021421</td>\n",
       "      <td>11.752288</td>\n",
       "      <td>1.256894</td>\n",
       "      <td>6.606826</td>\n",
       "      <td>1.390376</td>\n",
       "      <td>0.228871</td>\n",
       "      <td>...</td>\n",
       "      <td>0.162762</td>\n",
       "      <td>13.649302</td>\n",
       "      <td>19.430527</td>\n",
       "      <td>6.623395</td>\n",
       "      <td>17.413062</td>\n",
       "      <td>2.428490</td>\n",
       "      <td>9.572363</td>\n",
       "      <td>3.407114</td>\n",
       "      <td>1.096786</td>\n",
       "      <td>0.521908</td>\n",
       "    </tr>\n",
       "  </tbody>\n",
       "</table>\n",
       "<p>5 rows × 103 columns</p>\n",
       "</div>"
      ],
      "text/plain": [
       "gene_symbol             DPM1      PIGQ  HHATL     LYPLA2    NPC1L1     ZDHHC6  \\\n",
       "1-8 pcw-M-Ocx      34.373239  4.957886    0.0  15.007184  0.006853  16.803420   \n",
       "2-8 pcw-M-M1C-S1C  20.765661  4.885296    0.0   8.533285  0.000000  13.584455   \n",
       "3-8 pcw-M-AMY      18.734947  4.508666    0.0  10.774588  0.000000  11.185755   \n",
       "4-8 pcw-M-MGE      22.366394  4.872717    0.0   7.240709  0.000000  11.722672   \n",
       "5-8 pcw-M-STC      19.228431  4.399800    0.0   9.406447  0.021421  11.752288   \n",
       "\n",
       "gene_symbol            HHAT      ATG5      PIGV     DGAT2  ...   ZDHHC11  \\\n",
       "1-8 pcw-M-Ocx      1.861921  9.302048  1.948372  0.259309  ...  0.074568   \n",
       "2-8 pcw-M-M1C-S1C  1.164793  6.588545  1.630550  0.175087  ...  0.357056   \n",
       "3-8 pcw-M-AMY      1.120949  6.282318  1.335926  0.576523  ...  0.152814   \n",
       "4-8 pcw-M-MGE      1.662500  7.177213  1.594737  0.308998  ...  0.087677   \n",
       "5-8 pcw-M-STC      1.256894  6.606826  1.390376  0.228871  ...  0.162762   \n",
       "\n",
       "gene_symbol             APOD      PGAP1      ATG7      GPAA1      SVIP  \\\n",
       "1-8 pcw-M-Ocx       3.987598  18.528562  7.395518  17.528421  4.706358   \n",
       "2-8 pcw-M-M1C-S1C   3.782146  18.162287  6.270376  13.631538  3.092537   \n",
       "3-8 pcw-M-AMY       5.219452  17.848180  6.394491  20.184930  1.453678   \n",
       "4-8 pcw-M-MGE       0.953690  13.053936  7.512032  18.166466  2.364709   \n",
       "5-8 pcw-M-STC      13.649302  19.430527  6.623395  17.413062  2.428490   \n",
       "\n",
       "gene_symbol         ZDHHC18      APOM      LCAT     ITGB3  \n",
       "1-8 pcw-M-Ocx      9.404380  4.981144  0.985188  0.613023  \n",
       "2-8 pcw-M-M1C-S1C  9.320760  4.648099  1.471467  0.405086  \n",
       "3-8 pcw-M-AMY      7.921595  4.193755  0.659026  0.224634  \n",
       "4-8 pcw-M-MGE      8.393510  4.935286  1.201308  0.512886  \n",
       "5-8 pcw-M-STC      9.572363  3.407114  1.096786  0.521908  \n",
       "\n",
       "[5 rows x 103 columns]"
      ]
     },
     "execution_count": 5,
     "metadata": {},
     "output_type": "execute_result"
    }
   ],
   "source": [
    "\n",
    "gene_df=gene_df.drop(['row_num', 'gene_id', 'ensembl_gene_id', 'entrez_id'], axis=1).T\n",
    "gene_df.head()"
   ]
  },
  {
   "cell_type": "code",
   "execution_count": 6,
   "metadata": {
    "pycharm": {
     "is_executing": true
    }
   },
   "outputs": [
    {
     "name": "stdout",
     "output_type": "stream",
     "text": [
      "[[3.4373239e+01 2.0765661e+01 1.8734947e+01 ... 2.8731717e+01\n",
      "  1.6679597e+01 2.8866042e+01]\n",
      " [4.9578860e+00 4.8852960e+00 4.5086660e+00 ... 3.9733370e+00\n",
      "  4.6364620e+00 5.5222420e+00]\n",
      " [0.0000000e+00 0.0000000e+00 0.0000000e+00 ... 1.1950902e+01\n",
      "  3.4038134e+01 1.2859782e+01]\n",
      " ...\n",
      " [4.9811440e+00 4.6480990e+00 4.1937550e+00 ... 1.1340620e+00\n",
      "  1.6032100e+00 1.1342940e+00]\n",
      " [9.8518800e-01 1.4714670e+00 6.5902600e-01 ... 1.8950470e+00\n",
      "  2.7315240e+00 1.4831880e+00]\n",
      " [6.1302300e-01 4.0508600e-01 2.2463400e-01 ... 1.5103000e-02\n",
      "  3.4608600e-01 1.4298900e-01]]\n"
     ]
    },
    {
     "data": {
      "text/plain": [
       "524"
      ]
     },
     "execution_count": 6,
     "metadata": {},
     "output_type": "execute_result"
    }
   ],
   "source": [
    "gene_df=gene_df.T\n",
    "nasamples = gene_df.values\n",
    "print(nasamples)\n",
    "len(nasamples)\n",
    "len(nasamples[0])"
   ]
  },
  {
   "cell_type": "code",
   "execution_count": 7,
   "metadata": {},
   "outputs": [],
   "source": [
    "\n",
    "\n",
    "mdata=[]\n",
    "for column in gene_df.columns:\n",
    "    if len(column.split('-'))>4:\n",
    "        lst=column.split('-')\n",
    "        lst[3:5]=['-'.join(lst[3:5])]\n",
    "        mdata.append(lst)\n",
    "    else:\n",
    "        mdata.append(column.split('-'))\n"
   ]
  },
  {
   "cell_type": "code",
   "execution_count": 8,
   "metadata": {
    "pycharm": {
     "is_executing": true
    },
    "scrolled": true
   },
   "outputs": [
    {
     "data": {
      "text/html": [
       "<div>\n",
       "<style scoped>\n",
       "    .dataframe tbody tr th:only-of-type {\n",
       "        vertical-align: middle;\n",
       "    }\n",
       "\n",
       "    .dataframe tbody tr th {\n",
       "        vertical-align: top;\n",
       "    }\n",
       "\n",
       "    .dataframe thead th {\n",
       "        text-align: right;\n",
       "    }\n",
       "</style>\n",
       "<table border=\"1\" class=\"dataframe\">\n",
       "  <thead>\n",
       "    <tr style=\"text-align: right;\">\n",
       "      <th></th>\n",
       "      <th>sample_index</th>\n",
       "      <th>age</th>\n",
       "      <th>sex</th>\n",
       "      <th>brain_region</th>\n",
       "    </tr>\n",
       "  </thead>\n",
       "  <tbody>\n",
       "    <tr>\n",
       "      <th>0</th>\n",
       "      <td>1</td>\n",
       "      <td>8 pcw</td>\n",
       "      <td>M</td>\n",
       "      <td>Ocx</td>\n",
       "    </tr>\n",
       "    <tr>\n",
       "      <th>1</th>\n",
       "      <td>2</td>\n",
       "      <td>8 pcw</td>\n",
       "      <td>M</td>\n",
       "      <td>M1C-S1C</td>\n",
       "    </tr>\n",
       "    <tr>\n",
       "      <th>2</th>\n",
       "      <td>3</td>\n",
       "      <td>8 pcw</td>\n",
       "      <td>M</td>\n",
       "      <td>AMY</td>\n",
       "    </tr>\n",
       "    <tr>\n",
       "      <th>3</th>\n",
       "      <td>4</td>\n",
       "      <td>8 pcw</td>\n",
       "      <td>M</td>\n",
       "      <td>MGE</td>\n",
       "    </tr>\n",
       "    <tr>\n",
       "      <th>4</th>\n",
       "      <td>5</td>\n",
       "      <td>8 pcw</td>\n",
       "      <td>M</td>\n",
       "      <td>STC</td>\n",
       "    </tr>\n",
       "  </tbody>\n",
       "</table>\n",
       "</div>"
      ],
      "text/plain": [
       "  sample_index    age sex brain_region\n",
       "0            1  8 pcw   M          Ocx\n",
       "1            2  8 pcw   M      M1C-S1C\n",
       "2            3  8 pcw   M          AMY\n",
       "3            4  8 pcw   M          MGE\n",
       "4            5  8 pcw   M          STC"
      ]
     },
     "execution_count": 8,
     "metadata": {},
     "output_type": "execute_result"
    }
   ],
   "source": [
    "metadata=pd.DataFrame(mdata,columns=['sample_index','age','sex','brain_region'])\n",
    "metadata.head()"
   ]
  },
  {
   "cell_type": "code",
   "execution_count": 9,
   "metadata": {},
   "outputs": [
    {
     "data": {
      "image/png": "[encoded data removed]",
      "text/plain": [
       "<Figure size 432x288 with 1 Axes>"
      ]
     },
     "metadata": {
      "needs_background": "light"
     },
     "output_type": "display_data"
    }
   ],
   "source": [
    "sex=['M','F']\n",
    "sexnum=[(metadata.sex == 'M').sum(),(metadata.sex == 'F').sum()]\n",
    "plt.bar(sex,sexnum)\n",
    "plt.title('number of each sex')\n",
    "plt.show();"
   ]
  },
  {
   "cell_type": "code",
   "execution_count": 10,
   "metadata": {},
   "outputs": [
    {
     "data": {
      "image/png": "[encoded data removed]",
      "text/plain": [
       "<Figure size 2160x720 with 1 Axes>"
      ]
     },
     "metadata": {
      "needs_background": "light"
     },
     "output_type": "display_data"
    }
   ],
   "source": [
    "age=metadata.age.unique().tolist()\n",
    "agedict={}\n",
    "for a in age:\n",
    "    agedict[a]=0\n",
    "for ages in metadata.age:\n",
    "    agedict[ages]+=1\n",
    "plt.figure(figsize=(30,10))\n",
    "plt.bar(agedict.keys(), agedict.values())\n",
    "\n",
    "plt.title('samples per age')\n",
    "plt.show();"
   ]
  },
  {
   "cell_type": "code",
   "execution_count": 11,
   "metadata": {},
   "outputs": [
    {
     "data": {
      "image/png": "[encoded data removed]",
      "text/plain": [
       "<Figure size 1440x360 with 1 Axes>"
      ]
     },
     "metadata": {
      "needs_background": "light"
     },
     "output_type": "display_data"
    }
   ],
   "source": [
    "brainreg=metadata.brain_region.unique().tolist()\n",
    "regdict={}\n",
    "for r in brainreg:\n",
    "    regdict[r]=0\n",
    "for regs in metadata.brain_region:\n",
    "    regdict[regs]+=1\n",
    "plt.figure(figsize=(20,5))\n",
    "plt.bar(regdict.keys(), regdict.values())\n",
    "\n",
    "plt.title('number of samples from each brain region')\n",
    "plt.show();\n",
    "\n"
   ]
  },
  {
   "cell_type": "code",
   "execution_count": 12,
   "metadata": {},
   "outputs": [],
   "source": [
    "scaler = StandardScaler()\n",
    "samples_scaled = scaler.fit_transform(nasamples.T)\n",
    "\n",
    "samples_normalized = normalize(samples_scaled)\n",
    "\n",
    "samples_normalized = pd.DataFrame(samples_normalized)\n",
    "pca = PCA(n_components = 2)\n",
    "samples_principal = pca.fit_transform(samples_normalized)\n",
    "samples_principal = pd.DataFrame(samples_principal)\n",
    "samples_principal.columns = ['P1', 'P2']\n",
    "#creating pc1 and pc2 for PCA(principal components analysis) with patients"
   ]
  },
  {
   "cell_type": "code",
   "execution_count": 13,
   "metadata": {},
   "outputs": [
    {
     "data": {
      "image/png": "[encoded data removed]",
      "text/plain": [
       "<Figure size 576x576 with 1 Axes>"
      ]
     },
     "metadata": {
      "needs_background": "light"
     },
     "output_type": "display_data"
    }
   ],
   "source": [
    "plt.figure(figsize =(8, 8))\n",
    "plt.title('Visualising the data')\n",
    "Dendrogram = shc.dendrogram((shc.linkage(samples_principal, method ='ward')))\n",
    "plt.show();\n",
    "#dendrogram to show how the clusters are made"
   ]
  },
  {
   "cell_type": "code",
   "execution_count": 14,
   "metadata": {},
   "outputs": [
    {
     "data": {
      "image/png": "[encoded data removed]",
      "text/plain": [
       "<Figure size 432x432 with 1 Axes>"
      ]
     },
     "metadata": {
      "needs_background": "light"
     },
     "output_type": "display_data"
    }
   ],
   "source": [
    "ac2 = AgglomerativeClustering(n_clusters = 2)\n",
    "\n",
    "\n",
    "plt.figure(figsize =(6, 6))\n",
    "\n",
    "plt.scatter(samples_principal['P1'], samples_principal['P2'], c = ac2.fit_predict(samples_principal), cmap ='rainbow')\n",
    "plt.ylabel('PC2')\n",
    "plt.xlabel('PC1')\n",
    "plt.show();\n",
    "\n",
    "\n",
    "\n",
    "\n",
    "#Agglomeratively clustering plot for PCA\n",
    "#There appears to be two large clusters of patients separated on the PC1 axis, each cluster is also spread across PC2"
   ]
  },
  {
   "cell_type": "code",
   "execution_count": 15,
   "metadata": {
    "pycharm": {
     "is_executing": true
    }
   },
   "outputs": [],
   "source": [
    "model = NMF( n_components=2,init='random', random_state=0)\n",
    "W = model.fit_transform(nasamples)\n",
    "H = model.components_\n"
   ]
  },
  {
   "cell_type": "code",
   "execution_count": 16,
   "metadata": {},
   "outputs": [
    {
     "data": {
      "text/html": [
       "<div>\n",
       "<style scoped>\n",
       "    .dataframe tbody tr th:only-of-type {\n",
       "        vertical-align: middle;\n",
       "    }\n",
       "\n",
       "    .dataframe tbody tr th {\n",
       "        vertical-align: top;\n",
       "    }\n",
       "\n",
       "    .dataframe thead th {\n",
       "        text-align: right;\n",
       "    }\n",
       "</style>\n",
       "<table border=\"1\" class=\"dataframe\">\n",
       "  <thead>\n",
       "    <tr style=\"text-align: right;\">\n",
       "      <th></th>\n",
       "      <th>0</th>\n",
       "      <th>1</th>\n",
       "    </tr>\n",
       "    <tr>\n",
       "      <th>gene_symbol</th>\n",
       "      <th></th>\n",
       "      <th></th>\n",
       "    </tr>\n",
       "  </thead>\n",
       "  <tbody>\n",
       "    <tr>\n",
       "      <th>DPM1</th>\n",
       "      <td>0.159905</td>\n",
       "      <td>3.600303</td>\n",
       "    </tr>\n",
       "    <tr>\n",
       "      <th>PIGQ</th>\n",
       "      <td>0.306345</td>\n",
       "      <td>1.703969</td>\n",
       "    </tr>\n",
       "    <tr>\n",
       "      <th>HHATL</th>\n",
       "      <td>0.895525</td>\n",
       "      <td>2.362764</td>\n",
       "    </tr>\n",
       "    <tr>\n",
       "      <th>LYPLA2</th>\n",
       "      <td>0.156254</td>\n",
       "      <td>2.541521</td>\n",
       "    </tr>\n",
       "    <tr>\n",
       "      <th>NPC1L1</th>\n",
       "      <td>0.000886</td>\n",
       "      <td>0.004871</td>\n",
       "    </tr>\n",
       "  </tbody>\n",
       "</table>\n",
       "</div>"
      ],
      "text/plain": [
       "                    0         1\n",
       "gene_symbol                    \n",
       "DPM1         0.159905  3.600303\n",
       "PIGQ         0.306345  1.703969\n",
       "HHATL        0.895525  2.362764\n",
       "LYPLA2       0.156254  2.541521\n",
       "NPC1L1       0.000886  0.004871"
      ]
     },
     "execution_count": 16,
     "metadata": {},
     "output_type": "execute_result"
    }
   ],
   "source": [
    "W=pd.DataFrame(W)\n",
    "W.index= gene_df.index\n",
    "W.head()\n"
   ]
  },
  {
   "cell_type": "code",
   "execution_count": 23,
   "metadata": {},
   "outputs": [
    {
     "data": {
      "text/html": [
       "<div>\n",
       "<style scoped>\n",
       "    .dataframe tbody tr th:only-of-type {\n",
       "        vertical-align: middle;\n",
       "    }\n",
       "\n",
       "    .dataframe tbody tr th {\n",
       "        vertical-align: top;\n",
       "    }\n",
       "\n",
       "    .dataframe thead th {\n",
       "        text-align: right;\n",
       "    }\n",
       "</style>\n",
       "<table border=\"1\" class=\"dataframe\">\n",
       "  <thead>\n",
       "    <tr style=\"text-align: right;\">\n",
       "      <th></th>\n",
       "      <th>0</th>\n",
       "      <th>1</th>\n",
       "      <th>absdiff</th>\n",
       "    </tr>\n",
       "    <tr>\n",
       "      <th>gene_symbol</th>\n",
       "      <th></th>\n",
       "      <th></th>\n",
       "      <th></th>\n",
       "    </tr>\n",
       "  </thead>\n",
       "  <tbody>\n",
       "    <tr>\n",
       "      <th>APOE</th>\n",
       "      <td>109.482649</td>\n",
       "      <td>0.000000</td>\n",
       "      <td>109.482649</td>\n",
       "    </tr>\n",
       "    <tr>\n",
       "      <th>CLIP3</th>\n",
       "      <td>0.000000</td>\n",
       "      <td>60.817996</td>\n",
       "      <td>60.817996</td>\n",
       "    </tr>\n",
       "    <tr>\n",
       "      <th>GLUL</th>\n",
       "      <td>33.939569</td>\n",
       "      <td>14.955371</td>\n",
       "      <td>18.984197</td>\n",
       "    </tr>\n",
       "    <tr>\n",
       "      <th>APOC1</th>\n",
       "      <td>16.755972</td>\n",
       "      <td>0.269132</td>\n",
       "      <td>16.486840</td>\n",
       "    </tr>\n",
       "    <tr>\n",
       "      <th>CTSD</th>\n",
       "      <td>4.943901</td>\n",
       "      <td>20.599816</td>\n",
       "      <td>15.655915</td>\n",
       "    </tr>\n",
       "    <tr>\n",
       "      <th>APOD</th>\n",
       "      <td>7.059311</td>\n",
       "      <td>17.058865</td>\n",
       "      <td>9.999554</td>\n",
       "    </tr>\n",
       "    <tr>\n",
       "      <th>PPT1</th>\n",
       "      <td>1.808399</td>\n",
       "      <td>11.648282</td>\n",
       "      <td>9.839884</td>\n",
       "    </tr>\n",
       "    <tr>\n",
       "      <th>ABHD12</th>\n",
       "      <td>1.422287</td>\n",
       "      <td>9.978674</td>\n",
       "      <td>8.556386</td>\n",
       "    </tr>\n",
       "    <tr>\n",
       "      <th>GOLGA7</th>\n",
       "      <td>1.748346</td>\n",
       "      <td>8.808580</td>\n",
       "      <td>7.060233</td>\n",
       "    </tr>\n",
       "    <tr>\n",
       "      <th>PIGT</th>\n",
       "      <td>0.761651</td>\n",
       "      <td>7.196059</td>\n",
       "      <td>6.434408</td>\n",
       "    </tr>\n",
       "  </tbody>\n",
       "</table>\n",
       "</div>"
      ],
      "text/plain": [
       "                      0          1     absdiff\n",
       "gene_symbol                                   \n",
       "APOE         109.482649   0.000000  109.482649\n",
       "CLIP3          0.000000  60.817996   60.817996\n",
       "GLUL          33.939569  14.955371   18.984197\n",
       "APOC1         16.755972   0.269132   16.486840\n",
       "CTSD           4.943901  20.599816   15.655915\n",
       "APOD           7.059311  17.058865    9.999554\n",
       "PPT1           1.808399  11.648282    9.839884\n",
       "ABHD12         1.422287   9.978674    8.556386\n",
       "GOLGA7         1.748346   8.808580    7.060233\n",
       "PIGT           0.761651   7.196059    6.434408"
      ]
     },
     "execution_count": 23,
     "metadata": {},
     "output_type": "execute_result"
    }
   ],
   "source": [
    "W['absdiff']=abs(W[0]-W[1])\n",
    "W=W.sort_values('absdiff', ascending=False)\n",
    "W.head(10)"
   ]
  },
  {
   "cell_type": "code",
   "execution_count": 28,
   "metadata": {},
   "outputs": [
    {
     "data": {
      "text/html": [
       "<div>\n",
       "<style scoped>\n",
       "    .dataframe tbody tr th:only-of-type {\n",
       "        vertical-align: middle;\n",
       "    }\n",
       "\n",
       "    .dataframe tbody tr th {\n",
       "        vertical-align: top;\n",
       "    }\n",
       "\n",
       "    .dataframe thead th {\n",
       "        text-align: right;\n",
       "    }\n",
       "</style>\n",
       "<table border=\"1\" class=\"dataframe\">\n",
       "  <thead>\n",
       "    <tr style=\"text-align: right;\">\n",
       "      <th></th>\n",
       "      <th>0</th>\n",
       "      <th>1</th>\n",
       "      <th>absdiff</th>\n",
       "    </tr>\n",
       "    <tr>\n",
       "      <th>gene_symbol</th>\n",
       "      <th></th>\n",
       "      <th></th>\n",
       "      <th></th>\n",
       "    </tr>\n",
       "  </thead>\n",
       "  <tbody>\n",
       "    <tr>\n",
       "      <th>APOE</th>\n",
       "      <td>109.482649</td>\n",
       "      <td>0.000000</td>\n",
       "      <td>109.482649</td>\n",
       "    </tr>\n",
       "    <tr>\n",
       "      <th>GLUL</th>\n",
       "      <td>33.939569</td>\n",
       "      <td>14.955371</td>\n",
       "      <td>18.984197</td>\n",
       "    </tr>\n",
       "    <tr>\n",
       "      <th>APOC1</th>\n",
       "      <td>16.755972</td>\n",
       "      <td>0.269132</td>\n",
       "      <td>16.486840</td>\n",
       "    </tr>\n",
       "    <tr>\n",
       "      <th>APOD</th>\n",
       "      <td>7.059311</td>\n",
       "      <td>17.058865</td>\n",
       "      <td>9.999554</td>\n",
       "    </tr>\n",
       "    <tr>\n",
       "      <th>DBI</th>\n",
       "      <td>6.911500</td>\n",
       "      <td>7.026346</td>\n",
       "      <td>0.114846</td>\n",
       "    </tr>\n",
       "    <tr>\n",
       "      <th>CTSD</th>\n",
       "      <td>4.943901</td>\n",
       "      <td>20.599816</td>\n",
       "      <td>15.655915</td>\n",
       "    </tr>\n",
       "    <tr>\n",
       "      <th>DPM3</th>\n",
       "      <td>2.495586</td>\n",
       "      <td>4.806309</td>\n",
       "      <td>2.310723</td>\n",
       "    </tr>\n",
       "    <tr>\n",
       "      <th>PPT1</th>\n",
       "      <td>1.808399</td>\n",
       "      <td>11.648282</td>\n",
       "      <td>9.839884</td>\n",
       "    </tr>\n",
       "    <tr>\n",
       "      <th>GOLGA7</th>\n",
       "      <td>1.748346</td>\n",
       "      <td>8.808580</td>\n",
       "      <td>7.060233</td>\n",
       "    </tr>\n",
       "    <tr>\n",
       "      <th>ABHD12</th>\n",
       "      <td>1.422287</td>\n",
       "      <td>9.978674</td>\n",
       "      <td>8.556386</td>\n",
       "    </tr>\n",
       "  </tbody>\n",
       "</table>\n",
       "</div>"
      ],
      "text/plain": [
       "                      0          1     absdiff\n",
       "gene_symbol                                   \n",
       "APOE         109.482649   0.000000  109.482649\n",
       "GLUL          33.939569  14.955371   18.984197\n",
       "APOC1         16.755972   0.269132   16.486840\n",
       "APOD           7.059311  17.058865    9.999554\n",
       "DBI            6.911500   7.026346    0.114846\n",
       "CTSD           4.943901  20.599816   15.655915\n",
       "DPM3           2.495586   4.806309    2.310723\n",
       "PPT1           1.808399  11.648282    9.839884\n",
       "GOLGA7         1.748346   8.808580    7.060233\n",
       "ABHD12         1.422287   9.978674    8.556386"
      ]
     },
     "execution_count": 28,
     "metadata": {},
     "output_type": "execute_result"
    }
   ],
   "source": [
    "W=W.sort_values(0, ascending=False)\n",
    "W.head(10)\n"
   ]
  },
  {
   "cell_type": "code",
   "execution_count": null,
   "metadata": {
    "pycharm": {
     "is_executing": true
    },
    "scrolled": false
   },
   "outputs": [],
   "source": [
    "for x in range(10):\n",
    "    print(gene_df.columns[x],H[[0,1],x].tolist())"
   ]
  },
  {
   "cell_type": "code",
   "execution_count": null,
   "metadata": {
    "pycharm": {
     "is_executing": true
    }
   },
   "outputs": [],
   "source": [
    "H2=[]\n",
    "for x in range(524):\n",
    "    t=(gene_df.columns[x],H[0,x])\n",
    "    \n",
    "    \n",
    "    H2.append(t)\n",
    "    \n",
    "\n",
    "H2.sort( key=lambda x:x[1], reverse=True)\n",
    "\n",
    "print(H2[:10])"
   ]
  },
  {
   "cell_type": "code",
   "execution_count": null,
   "metadata": {
    "pycharm": {
     "is_executing": true
    }
   },
   "outputs": [],
   "source": [
    "H_df=pd.DataFrame(H, columns=gene_df.columns).T\n",
    "x=[]\n",
    "for value in H.T:\n",
    "    if value[0] > value[1]:\n",
    "        x.append(0)\n",
    "#     elif value[1] > value[0] and value[1]>value[2]:\n",
    "#         x.append(1)\n",
    "#     else:x.append(2)\n",
    "    else:\n",
    "        x.append(1)\n",
    "H_df['C']=x\n",
    "\n",
    "H_df['C_new']=H_df.iloc[:,0:2].idxmax(axis=1)\n",
    "\n",
    "# H_df['0_1_diff'] =H_df[0]-H_df[1]\n",
    "# H_df=H_df.sort_values(by='0_1_diff', ascending=False)\n",
    "print(H_df)\n",
    "C0s=H_df.loc[H_df['C']==0].index\n",
    "C1s=H_df.loc[H_df['C']==1].index\n",
    "# C2s=H_df.loc[H_df['C']==2].index\n",
    "print(x)"
   ]
  },
  {
   "cell_type": "code",
   "execution_count": null,
   "metadata": {},
   "outputs": [],
   "source": [
    "H_df[\"C\"].value_counts()\n"
   ]
  },
  {
   "cell_type": "code",
   "execution_count": null,
   "metadata": {},
   "outputs": [],
   "source": [
    "H_df.head()"
   ]
  },
  {
   "cell_type": "code",
   "execution_count": null,
   "metadata": {},
   "outputs": [],
   "source": [
    "np.random.seed(1)\n",
    "tsne_data=gene_df.T\n",
    "# print(tsne_data)\n",
    "# print(H_df.index)\n",
    "tsne_data=tsne_data.loc[H_df.index]\n",
    "\n",
    "tsne_shownData= TSNE(n_components=2).fit_transform(tsne_data)\n",
    "# print(tsne_shownData)\n",
    "tsne_data.head()"
   ]
  },
  {
   "cell_type": "code",
   "execution_count": null,
   "metadata": {},
   "outputs": [],
   "source": [
    "tsne_shownData=pd.DataFrame(tsne_shownData)\n",
    "tsne_shownData.index=H_df.index\n",
    "tsne_shownData.head()"
   ]
  },
  {
   "cell_type": "code",
   "execution_count": null,
   "metadata": {},
   "outputs": [],
   "source": [
    "print(H_df)"
   ]
  },
  {
   "cell_type": "code",
   "execution_count": null,
   "metadata": {},
   "outputs": [],
   "source": [
    "plt.figure(figsize=(16,8))\n",
    "plt.scatter(tsne_shownData[0],tsne_shownData[1], c= H_df[0], cmap='plasma')\n",
    "plt.xlabel('tsne1')\n",
    "plt.ylabel('tsne2')\n",
    "bar=plt.colorbar()\n",
    "plt.show();"
   ]
  },
  {
   "cell_type": "code",
   "execution_count": null,
   "metadata": {},
   "outputs": [],
   "source": [
    "i=0\n",
    "for gene in W.index:\n",
    "    plt.figure(figsize =(10, 6))\n",
    "    \n",
    "    plt.scatter(samples_principal['P1'], samples_principal['P2'],c=gene_df.loc[gene])\n",
    "    plt.ylabel('PC2')\n",
    "    plt.xlabel('PC1')\n",
    "      \n",
    "    cbar = plt.colorbar()\n",
    "    cbar.ax.set_ylabel(gene+'expression', rotation=270, size=20, labelpad=20)\n",
    "   \n",
    "    i+=1\n",
    "    if i >5:\n",
    "        break\n",
    "plt.show();"
   ]
  },
  {
   "cell_type": "code",
   "execution_count": null,
   "metadata": {},
   "outputs": [],
   "source": [
    "i=0\n",
    "for gene in W.index:\n",
    "    plt.figure(figsize=(16,8))\n",
    "\n",
    "    plt.scatter(tsne_shownData[0],tsne_shownData[1], c=tsne_data[gene])\n",
    "    plt.xlabel('tsne-1')\n",
    "    plt.ylabel('tsne-2')\n",
    "    cbar = plt.colorbar()\n",
    "    cbar.ax.set_ylabel(gene+'expression', rotation=270, size=20, labelpad=20)\n",
    "    i+=1\n",
    "    if i >10:\n",
    "        break\n",
    "plt.show();"
   ]
  },
  {
   "cell_type": "code",
   "execution_count": null,
   "metadata": {
    "pycharm": {
     "is_executing": true
    }
   },
   "outputs": [],
   "source": [
    "ageRegex=re.compile('.*-(\\d+) (.+)-.+-')\n",
    "C0ages =[]\n",
    "for sample in C0s:\n",
    "    matches=ageRegex.findall(sample)\n",
    "    age=int(matches[0][0])\n",
    "    units= matches[0][1]\n",
    "    if units =='mos':\n",
    "        age=age*4\n",
    "    if units =='pcw':\n",
    "        age=np.abs(age-38)*-1\n",
    "    if units =='yrs':\n",
    "        age=age*52\n",
    "        \n",
    "    C0ages.append(age)\n",
    "    \n",
    "C1ages=[]\n",
    "for sample in C1s:\n",
    "    matches=ageRegex.findall(sample)\n",
    "    age=int(matches[0][0])\n",
    "    units=matches[0][1]\n",
    "    if units =='mos':\n",
    "        age=age*4\n",
    "    if units =='pcw':\n",
    "        age=np.abs(age-38)*-1\n",
    "    if units =='yrs':\n",
    "        age=age*52\n",
    "        \n",
    "    C1ages.append(age)\n",
    "\n",
    "# C2ages=[]\n",
    "# for sample in C2s:\n",
    "#     matches=ageRegex.findall(sample)\n",
    "#     age=int(matches[0][0])\n",
    "#     units=matches[0][1]\n",
    "#     if units =='mos':\n",
    "#         age=age*4\n",
    "#     if units =='pcw':\n",
    "#         age=np.abs(age-38)*-1\n",
    "#     if units =='yrs':\n",
    "#         age=age*52\n",
    "        \n",
    "#     C2ages.append(age)\n",
    "    \n",
    "print('Mean C0 age',np.mean(C0ages))\n",
    "print('Mean C1 age',np.mean(C1ages))\n",
    "# print('Mean C2 age',np.mean(C2ages))\n",
    "\n",
    "\n",
    "print('Median C0 age',np.median(C0ages))\n",
    "print('Median C1 age',np.median(C1ages))\n",
    "# print('Median C2 age',np.median(C2ages))"
   ]
  },
  {
   "cell_type": "code",
   "execution_count": null,
   "metadata": {
    "pycharm": {
     "is_executing": true
    }
   },
   "outputs": [],
   "source": [
    "plt.figure(figsize=(16,8))\n",
    "plt.hist([C0ages,C1ages],100,label=['C0ages', 'C1ages'])\n",
    "plt.legend(loc= 'upper right')\n",
    "plt.ylabel(\"Count\")\n",
    "plt.xlabel(\"age in weeks (0 is birth)\",size=15)\n",
    "plt.show();"
   ]
  },
  {
   "cell_type": "code",
   "execution_count": null,
   "metadata": {
    "pycharm": {
     "is_executing": true
    }
   },
   "outputs": [],
   "source": [
    "plt.figure(figsize=(16,8))\n",
    "plt.scatter(C0ages, gene_df.loc['APOE'][C0s], label='C0',alpha=.5)\n",
    "plt.scatter(C1ages, gene_df.loc['APOE'][C1s], label='C1',alpha=.5)\n",
    "# plt.scatter(C2ages, gene_df.loc['APOE'][C2s], label='C2',alpha=.5)\n",
    "plt.ylabel('APOE Expression')\n",
    "plt.xlabel('Weeks Old')\n",
    "plt.legend(loc='upper right')\n",
    "plt.show();"
   ]
  },
  {
   "cell_type": "code",
   "execution_count": null,
   "metadata": {
    "pycharm": {
     "is_executing": true
    }
   },
   "outputs": [],
   "source": [
    "for x in range(10):  \n",
    "    plt.figure(figsize=(16,8))\n",
    "    plt.scatter(C0ages, gene_df.iloc[x][C0s], label='C0',alpha=.5)\n",
    "    plt.scatter(C1ages, gene_df.iloc[x][C1s], label='C1',alpha=.5)\n",
    "#     plt.scatter(C2ages, gene_df.iloc[x][C2s], label='C2',alpha=.5)\n",
    "    plt.ylabel(genes[x])\n",
    "    plt.xlabel('Weeks Old')\n",
    "    plt.legend(loc='upper right')\n",
    "plt.show();"
   ]
  },
  {
   "cell_type": "code",
   "execution_count": null,
   "metadata": {
    "pycharm": {
     "is_executing": true
    }
   },
   "outputs": [],
   "source": [
    "C0_age_d={}\n",
    "C1_age_d={}\n",
    "# C2_age_d={}\n",
    "x=0\n",
    "for sample in C0ages:\n",
    "    if sample in C0_age_d.keys():\n",
    "        C0_age_d[sample].append(C0s[x])\n",
    "    else:\n",
    "        C0_age_d[sample] = [C0s[x]]\n",
    "        \n",
    "    x+=1\n",
    "\n",
    "    \n",
    "# print(C0_age_d)                \n",
    "\n",
    "y=0\n",
    "for sample in C1ages:\n",
    "    if sample in C1_age_d.keys():\n",
    "        C1_age_d[sample].append(C1s[y])\n",
    "    else:\n",
    "        C1_age_d[sample] = [C1s[y]]\n",
    "        \n",
    "    y+=1        \n",
    "        \n",
    "# print(C1_age_d)\n",
    "# z=0\n",
    "# for sample in C2ages:\n",
    "#     if sample in C2_age_d.keys():\n",
    "#         C2_age_d[sample].append(C2s[z])\n",
    "#     else:\n",
    "#         C2_age_d[sample] = [C2s[z]]\n",
    "        \n",
    "#     z+=1        \n",
    "        \n",
    "# print(C2_age_d)         "
   ]
  },
  {
   "cell_type": "code",
   "execution_count": null,
   "metadata": {
    "pycharm": {
     "is_executing": true
    }
   },
   "outputs": [],
   "source": [
    "figsizes = (15, 4)\n",
    "genes = W.index[0:10]\n",
    "for gene in genes:\n",
    "    C0_keys = sorted(C0_age_d.keys())\n",
    "    C0_means = [gene_df.loc[gene, C0_age_d[x]].mean() for x in C0_keys]\n",
    "    C0_std = [gene_df.loc[gene, C0_age_d[x]].std() for x in C0_keys]\n",
    "    \n",
    "    C1_keys = sorted(C1_age_d.keys())\n",
    "    C1_means = [gene_df.loc[gene, C1_age_d[x]].mean() for x in C1_keys]\n",
    "    C1_std = [gene_df.loc[gene, C1_age_d[x]].std() for x in C1_keys]\n",
    "    \n",
    "#     C2_keys = sorted(C2_age_d.keys())\n",
    "#     C2_means = [gene_df.loc[gene, C2_age_d[x]].mean() for x in C2_keys]\n",
    "#     C2_std = [gene_df.loc[gene, C2_age_d[x]].std() for x in C2_keys]\n",
    "    \n",
    "    plt.figure(figsize=figsizes)\n",
    "    plt.scatter(C0ages, gene_df.loc[gene][C0s], label='C0', alpha=0.05)\n",
    "    plt.scatter(C1ages, gene_df.loc[gene][C1s], label='C1', alpha=0.05)\n",
    "#     plt.scatter(C2ages, gene_df.loc[gene][C2s], label='C2', alpha=0.05)\n",
    "#     plt.plot(C0_keys, C0_means, '-o',color=\"dodgerblue\")\n",
    "    plt.errorbar(C0_keys, C0_means, yerr=C0_std,capsize=5, fmt=\"-\",ecolor=\"dodgerblue\",alpha=.7,marker='o')\n",
    "#     plt.plot(C1_keys, C1_means, '-o',color=\"orange\")\n",
    "    plt.errorbar(C1_keys, C1_means, yerr=C1_std,capsize=5, fmt=\"-\",ecolor=\"orange\",alpha=.7,marker='o')\n",
    "#     plt.plot(C2_keys, C2_means, '-o',color=\"green\")\n",
    "#     plt.errorbar(C2_keys, C2_means, yerr=C2_std,capsize=5, fmt=\"-\",ecolor=\"green\",alpha=.7,marker='o')\n",
    "    line1 = pylab.Line2D(range(1),range(1),color='white', marker='o',markersize=10, markerfacecolor=\"orange\",alpha=1.0)\n",
    "    line2 = pylab.Line2D(range(10),range(10),color='white',marker=\"o\",markersize=10,markerfacecolor=\"dodgerblue\",alpha=1.0)\n",
    "#     line3 = pylab.Line2D(range(10),range(10),color='white',marker=\"o\",markersize=10,markerfacecolor=\"green\",alpha=1.0)\n",
    "    \n",
    "    \n",
    "    plt.legend((line2,line1),('C0','C1'),numpoints=1,loc=1)\n",
    "    plt.ylabel(gene + ' Expression', size=16)\n",
    "    plt.xlabel('# Weeks Old (Age)', size=16)\n",
    "plt.show();"
   ]
  },
  {
   "cell_type": "code",
   "execution_count": null,
   "metadata": {},
   "outputs": [],
   "source": [
    "young0=[]\n",
    "for age0 in C0ages:\n",
    "    if age0 <250:\n",
    "        young0.append(age0)\n",
    "    else:\n",
    "        break\n",
    "young1=[]\n",
    "for age1 in C1ages:\n",
    "    if age1 <250:\n",
    "        young1.append(age1)\n",
    "    else:\n",
    "        break\n"
   ]
  },
  {
   "cell_type": "code",
   "execution_count": null,
   "metadata": {},
   "outputs": [],
   "source": [
    "plt.subplot(1, 2, 1)\n",
    "plt.violinplot(gene_df.loc['APOE'][C0s][:len(young0)])\n",
    "plt.ylabel(\"APOE Expression\")\n",
    "plt.xlabel('C0 Samples')\n",
    "plt.xticks([0])\n",
    "\n",
    "plt.subplot(1, 2, 2)\n",
    "plt.violinplot(gene_df.loc['APOE'][C1s][:len(young1)])\n",
    "plt.xlabel('C1 Samples')\n",
    "plt.ylim([0,2450])\n",
    "plt.yticks(np.arange(0, max(gene_df.loc['APOE'][C0s][:len(young0)]), 500))\n",
    "plt.xticks([0])\n",
    "\n",
    "plt.show();"
   ]
  },
  {
   "cell_type": "code",
   "execution_count": null,
   "metadata": {},
   "outputs": [],
   "source": [
    "gene_df.loc['APOE'][C0s][:len(young0)]"
   ]
  },
  {
   "cell_type": "code",
   "execution_count": 18,
   "metadata": {},
   "outputs": [
    {
     "ename": "NameError",
     "evalue": "name 'H_df' is not defined",
     "output_type": "error",
     "traceback": [
      "\u001b[0;31m---------------------------------------------------------------------------\u001b[0m",
      "\u001b[0;31mNameError\u001b[0m                                 Traceback (most recent call last)",
      "\u001b[0;32m<ipython-input-18-2556800ae712>\u001b[0m in \u001b[0;36m<module>\u001b[0;34m\u001b[0m\n\u001b[1;32m      8\u001b[0m     \u001b[0;32melse\u001b[0m\u001b[0;34m:\u001b[0m\u001b[0;34m\u001b[0m\u001b[0;34m\u001b[0m\u001b[0m\n\u001b[1;32m      9\u001b[0m         \u001b[0mx\u001b[0m\u001b[0;34m.\u001b[0m\u001b[0mappend\u001b[0m\u001b[0;34m(\u001b[0m\u001b[0;36m1\u001b[0m\u001b[0;34m)\u001b[0m\u001b[0;34m\u001b[0m\u001b[0;34m\u001b[0m\u001b[0m\n\u001b[0;32m---> 10\u001b[0;31m \u001b[0mH_df\u001b[0m\u001b[0;34m[\u001b[0m\u001b[0;34m'C'\u001b[0m\u001b[0;34m]\u001b[0m\u001b[0;34m=\u001b[0m\u001b[0mx\u001b[0m\u001b[0;34m\u001b[0m\u001b[0;34m\u001b[0m\u001b[0m\n\u001b[0m\u001b[1;32m     11\u001b[0m \u001b[0;34m\u001b[0m\u001b[0m\n\u001b[1;32m     12\u001b[0m \u001b[0mH_df\u001b[0m\u001b[0;34m[\u001b[0m\u001b[0;34m'C_new'\u001b[0m\u001b[0;34m]\u001b[0m\u001b[0;34m=\u001b[0m\u001b[0mH_df\u001b[0m\u001b[0;34m.\u001b[0m\u001b[0miloc\u001b[0m\u001b[0;34m[\u001b[0m\u001b[0;34m:\u001b[0m\u001b[0;34m,\u001b[0m\u001b[0;36m0\u001b[0m\u001b[0;34m:\u001b[0m\u001b[0;36m2\u001b[0m\u001b[0;34m]\u001b[0m\u001b[0;34m.\u001b[0m\u001b[0midxmax\u001b[0m\u001b[0;34m(\u001b[0m\u001b[0maxis\u001b[0m\u001b[0;34m=\u001b[0m\u001b[0;36m1\u001b[0m\u001b[0;34m)\u001b[0m\u001b[0;34m\u001b[0m\u001b[0;34m\u001b[0m\u001b[0m\n",
      "\u001b[0;31mNameError\u001b[0m: name 'H_df' is not defined"
     ]
    }
   ],
   "source": [
    "x=[]\n",
    "for value in H.T:\n",
    "    if value[0] > value[1]:\n",
    "        x.append(0)\n",
    "#     elif value[1] > value[0] and value[1]>value[2]:\n",
    "#         x.append(1)\n",
    "#     else:x.append(2)\n",
    "    else:\n",
    "        x.append(1)\n",
    "H_df['C']=x\n",
    "\n",
    "H_df['C_new']=H_df.iloc[:,0:2].idxmax(axis=1)\n",
    "\n",
    "# H_df['0_1_diff'] =H_df[0]-H_df[1]\n",
    "# H_df=H_df.sort_values(by='0_1_diff', ascending=False)\n",
    "\n",
    "C0s=H_df.loc[H_df['C']==0].index\n",
    "C1s=H_df.loc[H_df['C']==1].index\n",
    "# C2s=H_df.loc[H_df['C']==2].index\n"
   ]
  },
  {
   "cell_type": "code",
   "execution_count": 19,
   "metadata": {},
   "outputs": [
    {
     "data": {
      "image/png": "[encoded data removed]",
      "text/plain": [
       "<Figure size 1440x360 with 1 Axes>"
      ]
     },
     "metadata": {
      "needs_background": "light"
     },
     "output_type": "display_data"
    }
   ],
   "source": [
    "brainreg=metadata.brain_region.unique().tolist()\n",
    "regdict0={}\n",
    "regdict1={}\n",
    "\n",
    "for r in brainreg:\n",
    "    regdict0[r]=0\n",
    "    regdict1[r]=0\n",
    "count=0\n",
    "for regs in metadata.brain_region:\n",
    "    if x[count]==0:\n",
    "        regdict0[regs]+=1\n",
    "    else:\n",
    "        regdict1[regs]+=1\n",
    "    count+=1\n",
    "plt.figure(figsize=(20,5))\n",
    "X_axis = np.arange(len(brainreg))\n",
    "\n",
    "plt.bar(X_axis-.2, regdict0.values(),.4)\n",
    "plt.bar(X_axis+.2, regdict1.values(),.4)\n",
    "plt.xticks(X_axis, brainreg)\n",
    "plt.title('number of samples from each brain region')\n",
    "plt.legend([\"C0\",\"C1\"])\n",
    "plt.show();\n"
   ]
  },
  {
   "cell_type": "code",
   "execution_count": null,
   "metadata": {},
   "outputs": [],
   "source": []
  },
  {
   "cell_type": "code",
   "execution_count": null,
   "metadata": {},
   "outputs": [],
   "source": []
  }
 ],
 "metadata": {
  "kernelspec": {
   "display_name": "Python 3",
   "language": "python",
   "name": "python3"
  },
  "language_info": {
   "codemirror_mode": {
    "name": "ipython",
    "version": 3
   },
   "file_extension": ".py",
   "mimetype": "text/x-python",
   "name": "python",
   "nbconvert_exporter": "python",
   "pygments_lexer": "ipython3",
   "version": "3.9.1"
  }
 },
 "nbformat": 4,
 "nbformat_minor": 1
}
